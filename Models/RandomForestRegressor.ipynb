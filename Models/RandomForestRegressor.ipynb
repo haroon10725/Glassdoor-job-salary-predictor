{
  "nbformat": 4,
  "nbformat_minor": 0,
  "metadata": {
    "colab": {
      "provenance": []
    },
    "kernelspec": {
      "name": "python3",
      "display_name": "Python 3"
    },
    "language_info": {
      "name": "python"
    }
  },
  "cells": [
    {
      "cell_type": "markdown",
      "source": [
        "\n",
        "# **Implementing a Decision Tree for Random Forest**"
      ],
      "metadata": {
        "id": "A94lxWvszkPd"
      }
    },
    {
      "cell_type": "code",
      "source": [
        "import pandas as pd\n",
        "import numpy as np\n",
        "from sklearn.model_selection import train_test_split\n",
        "\n",
        "# Load dataset\n",
        "df = pd.read_csv(\"/content/salary_data_cleaned.csv\")\n",
        "\n",
        "# Select relevant features\n",
        "features = ['Rating', 'Location', 'Size', 'Type of ownership', 'Industry', 'Sector', 'Revenue', 'hourly',\n",
        "            'employer_provided', 'avg_salary', 'same_state', 'age', 'python_yn', 'spark', 'aws', 'excel',\n",
        "            'Job Title', 'math', 'engineering', 'data analysis', 'AI']\n",
        "\n",
        "dataset = df[features]\n",
        "\n",
        "# One-hot encode categorical features\n",
        "df_dum = pd.get_dummies(dataset)\n",
        "\n",
        "# Ensure 'avg_salary' is correctly included in df_dum\n",
        "if 'avg_salary' not in df_dum.columns:\n",
        "    raise KeyError(\"'avg_salary' not found in one-hot encoded dataframe\")\n",
        "\n",
        "# Define features and target variable\n",
        "X = df_dum.drop('avg_salary', axis=1).values\n",
        "y = df_dum['avg_salary'].values\n",
        "\n",
        "# Splitting data into train and test sets\n",
        "X_train, X_test, y_train, y_test = train_test_split(X, y, test_size=0.2, random_state=42)\n",
        "\n",
        "class D_TreeRegressor:\n",
        "\n",
        "    def __init__(self, max_depth=None, min_samples_split=2, min_samples_leaf=1):\n",
        "        self.max_depth = max_depth\n",
        "        self.min_samples_split = min_samples_split\n",
        "        self.min_samples_leaf = min_samples_leaf\n",
        "        self.tree = None\n",
        "\n",
        "    def fit(self, X, y):\n",
        "        self.tree = self._build_tree(X, y)\n",
        "\n",
        "    def _build_tree(self, X, y, depth=0):\n",
        "        num_samples, num_features = X.shape\n",
        "\n",
        "        if num_samples >= self.min_samples_split and (self.max_depth is None or depth < self.max_depth):\n",
        "            best_split = self._find_best_split(X, y, num_features)\n",
        "\n",
        "            if best_split and best_split['variance_reduction'] > 0:\n",
        "                left_indices = best_split['left_indices']\n",
        "                right_indices = best_split['right_indices']\n",
        "\n",
        "                left_subtree = self._build_tree(X[left_indices], y[left_indices], depth + 1)\n",
        "                right_subtree = self._build_tree(X[right_indices], y[right_indices], depth + 1)\n",
        "\n",
        "                return Node(feature_index=best_split['feature_index'],\n",
        "                            threshold=best_split['threshold'],\n",
        "                            left=left_subtree,\n",
        "                            right=right_subtree)\n",
        "\n",
        "        leaf_value = np.mean(y)\n",
        "        return Node(value=leaf_value)\n",
        "\n",
        "    def _find_best_split(self, X, y, num_features):\n",
        "        best_split = None\n",
        "        max_variance_reduction = -float('inf')\n",
        "\n",
        "        for feature_index in range(num_features):\n",
        "            feature_values = X[:, feature_index]\n",
        "            unique_values = np.unique(feature_values)\n",
        "\n",
        "            for threshold in unique_values:\n",
        "                left_indices = np.where(feature_values <= threshold)[0]\n",
        "                right_indices = np.where(feature_values > threshold)[0]\n",
        "\n",
        "                if len(left_indices) < self.min_samples_leaf or len(right_indices) < self.min_samples_leaf:\n",
        "                    continue\n",
        "\n",
        "                variance_reduction = self._calculate_variance_reduction(y, y[left_indices], y[right_indices])\n",
        "                if variance_reduction > max_variance_reduction:\n",
        "                    max_variance_reduction = variance_reduction\n",
        "                    best_split = {\n",
        "                        'feature_index': feature_index,\n",
        "                        'threshold': threshold,\n",
        "                        'left_indices': left_indices,\n",
        "                        'right_indices': right_indices,\n",
        "                        'variance_reduction': variance_reduction\n",
        "                    }\n",
        "\n",
        "        return best_split\n",
        "\n",
        "    def _calculate_variance_reduction(self, y, y_left, y_right):\n",
        "        weight_left = len(y_left) / len(y)\n",
        "        weight_right = len(y_right) / len(y)\n",
        "        reduction = np.var(y) - (weight_left * np.var(y_left) + weight_right * np.var(y_right))\n",
        "        return reduction\n",
        "\n",
        "    def predict(self, X):\n",
        "        return np.array([self._predict_value(x, self.tree) for x in X])\n",
        "\n",
        "    def _predict_value(self, x, tree):\n",
        "        if tree.value is not None:\n",
        "            return tree.value\n",
        "\n",
        "        if x[tree.feature_index] <= tree.threshold:\n",
        "            return self._predict_value(x, tree.left)\n",
        "        else:\n",
        "            return self._predict_value(x, tree.right)\n",
        "\n",
        "\n",
        "class Node:\n",
        "    def __init__(self, feature_index=None, threshold=None, left=None, right=None, value=None):\n",
        "        self.feature_index = feature_index\n",
        "        self.threshold = threshold\n",
        "        self.left = left\n",
        "        self.right = right\n",
        "        self.value = value\n",
        "\n",
        "\n",
        "# Function to calculate mean squared error\n",
        "def mean_squared_error_custom(y_true, y_pred):\n",
        "    return np.mean((y_true - y_pred) ** 2)\n",
        "\n",
        "\n",
        "# Function to calculate R^2 (coefficient of determination)\n",
        "def r2_score_custom(y_true, y_pred):\n",
        "    total_variance = np.sum((y_true - np.mean(y_true)) ** 2)\n",
        "    explained_variance = np.sum((y_true - y_pred) ** 2)\n",
        "    r2 = 1 - (explained_variance / total_variance)\n",
        "    return r2\n",
        "\n",
        "\n",
        "# Function to calculate mean absolute error\n",
        "def mean_absolute_error_custom(y_true, y_pred):\n",
        "    return np.mean(np.abs(y_true - y_pred))\n",
        "\n",
        "\n",
        "# Training the model\n",
        "regressor = D_TreeRegressor(max_depth=10, min_samples_split=5, min_samples_leaf=2)\n",
        "regressor.fit(X_train, y_train)\n",
        "\n",
        "# Making predictions on the test set\n",
        "predictions = regressor.predict(X_test)\n"
      ],
      "metadata": {
        "id": "wa7GovLv0IWx"
      },
      "execution_count": 13,
      "outputs": []
    },
    {
      "cell_type": "markdown",
      "source": [
        "# **IMPLEMENTING RANDOM FOREST USING PYTHON LIBRARY**"
      ],
      "metadata": {
        "id": "fwfeHFWZ0cNW"
      }
    },
    {
      "cell_type": "code",
      "source": [
        "from sklearn.ensemble import RandomForestRegressor\n",
        "from sklearn.metrics import mean_squared_error, r2_score, mean_absolute_error\n",
        "\n",
        "# Train and evaluate scikit-learn's RandomForestRegressor\n",
        "sklearn_regressor = RandomForestRegressor(n_estimators=100, max_depth=10, min_samples_split=5, min_samples_leaf=2, random_state=42, n_jobs=-1)\n",
        "sklearn_regressor.fit(X_train, y_train)\n",
        "predictions_sklearn = sklearn_regressor.predict(X_test)\n"
      ],
      "metadata": {
        "id": "PGVyQBOkcQck"
      },
      "execution_count": 14,
      "outputs": []
    },
    {
      "cell_type": "markdown",
      "source": [
        "**PERFORMANCE METRICS**"
      ],
      "metadata": {
        "id": "MDHqjX9b8gpX"
      }
    },
    {
      "cell_type": "code",
      "source": [
        "mse_sklearn = mean_squared_error(y_test, predictions_sklearn)\n",
        "r2_sklearn = r2_score(y_test, predictions_sklearn)\n",
        "mae_sklearn = mean_absolute_error(y_test, predictions_sklearn)\n",
        "\n",
        "print(\"Mean Squared Error (Scikit-learn): \", mse_sklearn)\n",
        "print(\"R-squared (Scikit-learn): \", r2_sklearn)\n",
        "print(\"Mean Absolute Error (Scikit-learn): \", mae_sklearn)"
      ],
      "metadata": {
        "colab": {
          "base_uri": "https://localhost:8080/"
        },
        "id": "cyS8DEhB8p9h",
        "outputId": "ae8cf653-13e2-46d4-9521-83b3cc5edffe"
      },
      "execution_count": 15,
      "outputs": [
        {
          "output_type": "stream",
          "name": "stdout",
          "text": [
            "Mean Squared Error (Scikit-learn):  756.9059153656441\n",
            "R-squared (Scikit-learn):  0.5369221584291147\n",
            "Mean Absolute Error (Scikit-learn):  21.019777880136456\n"
          ]
        }
      ]
    },
    {
      "cell_type": "markdown",
      "source": [
        "# **IMPLEMENTING RANDOM FOREST WITHOUT USING PYTHON LIBRARY**"
      ],
      "metadata": {
        "id": "aCQ1X-SE1PKB"
      }
    },
    {
      "cell_type": "code",
      "source": [
        "import numpy as np\n",
        "\n",
        "class RandomForestRegressorCustom:\n",
        "    def __init__(self, n_estimators=20, max_depth=None, min_samples_split=2, min_samples_leaf=1, random_state=None):\n",
        "        self.n_estimators = n_estimators\n",
        "        self.max_depth = max_depth\n",
        "        self.min_samples_split = min_samples_split\n",
        "        self.min_samples_leaf = min_samples_leaf\n",
        "        self.random_state = random_state\n",
        "        self.estimators = []\n",
        "\n",
        "    def fit(self, X, y):\n",
        "        print(\"Fitting Random Forest...\")\n",
        "        np.random.seed(self.random_state)\n",
        "        self.estimators = []\n",
        "        for i in range(self.n_estimators):\n",
        "            print(f\"Fitting estimator {i+1}/{self.n_estimators}...\")\n",
        "            np.random.seed(self.random_state + i)\n",
        "            indices = np.random.choice(X.shape[0], X.shape[0], replace=True)\n",
        "            X_bootstrap = X[indices]\n",
        "            y_bootstrap = y[indices]\n",
        "            tree = D_TreeRegressor(max_depth=self.max_depth,\n",
        "                                   min_samples_split=self.min_samples_split,\n",
        "                                   min_samples_leaf=self.min_samples_leaf)\n",
        "            tree.fit(X_bootstrap, y_bootstrap)\n",
        "            self.estimators.append(tree)\n",
        "        print(\"Training complete.\")\n",
        "\n",
        "    def predict(self, X):\n",
        "        predictions = np.zeros((X.shape[0], self.n_estimators))\n",
        "        for i, tree in enumerate(self.estimators):\n",
        "            predictions[:, i] = tree.predict(X)\n",
        "        return np.mean(predictions, axis=1)\n",
        "\n",
        "# Custom function to calculate mean squared error\n",
        "def mean_squared_error_custom(y_true, y_pred):\n",
        "    return np.mean((y_true - y_pred) ** 2)\n",
        "\n",
        "# Custom function to calculate R^2 (coefficient of determination)\n",
        "def r2_score_custom(y_true, y_pred):\n",
        "    total_variance = np.sum((y_true - np.mean(y_true)) ** 2)\n",
        "    explained_variance = np.sum((y_true - y_pred) ** 2)\n",
        "    r2 = 1 - (explained_variance / total_variance)\n",
        "    return r2\n",
        "\n",
        "# Custom function to calculate mean absolute error\n",
        "def mean_absolute_error_custom(y_true, y_pred):\n",
        "    return np.mean(np.abs(y_true - y_pred))\n",
        "\n",
        "# Assuming your dataset loading and preprocessing steps are defined as before\n",
        "\n",
        "# Instantiate and train the custom random forest regressor\n",
        "regressor_custom = RandomForestRegressorCustom(n_estimators=20, max_depth=10, min_samples_split=5, min_samples_leaf=2, random_state=42)\n",
        "regressor_custom.fit(X_train, y_train)\n",
        "\n",
        "# Making predictions on the test set\n",
        "predictions_custom = regressor_custom.predict(X_test)\n"
      ],
      "metadata": {
        "id": "GxvqkG6f1R_5",
        "colab": {
          "base_uri": "https://localhost:8080/"
        },
        "outputId": "360252ee-e941-4356-a9f9-c98a1ddf333a"
      },
      "execution_count": 16,
      "outputs": [
        {
          "output_type": "stream",
          "name": "stdout",
          "text": [
            "Fitting Random Forest...\n",
            "Fitting estimator 1/20...\n",
            "Fitting estimator 2/20...\n",
            "Fitting estimator 3/20...\n",
            "Fitting estimator 4/20...\n",
            "Fitting estimator 5/20...\n",
            "Fitting estimator 6/20...\n",
            "Fitting estimator 7/20...\n",
            "Fitting estimator 8/20...\n",
            "Fitting estimator 9/20...\n",
            "Fitting estimator 10/20...\n",
            "Fitting estimator 11/20...\n",
            "Fitting estimator 12/20...\n",
            "Fitting estimator 13/20...\n",
            "Fitting estimator 14/20...\n",
            "Fitting estimator 15/20...\n",
            "Fitting estimator 16/20...\n",
            "Fitting estimator 17/20...\n",
            "Fitting estimator 18/20...\n",
            "Fitting estimator 19/20...\n",
            "Fitting estimator 20/20...\n",
            "Training complete.\n"
          ]
        }
      ]
    },
    {
      "cell_type": "markdown",
      "source": [
        "**PERFORMANCE METRICS**"
      ],
      "metadata": {
        "id": "YXQMijuY9S0k"
      }
    },
    {
      "cell_type": "code",
      "source": [
        "# Calculating MSE, R², and MAE on the test set using custom functions\n",
        "mse_custom = mean_squared_error_custom(y_test, predictions_custom)\n",
        "r2_custom = r2_score_custom(y_test, predictions_custom)\n",
        "mae_custom = mean_absolute_error_custom(y_test, predictions_custom)\n",
        "\n",
        "print(\"Mean Squared Error (Custom): \", mse_custom)\n",
        "print(\"R-squared (Custom): \", r2_custom)\n",
        "print(\"Mean Absolute Error (Custom): \", mae_custom)"
      ],
      "metadata": {
        "colab": {
          "base_uri": "https://localhost:8080/"
        },
        "id": "QauCUvyG9Teo",
        "outputId": "baf232aa-8342-4a4b-cd4d-fe7ab3a82ef5"
      },
      "execution_count": 17,
      "outputs": [
        {
          "output_type": "stream",
          "name": "stdout",
          "text": [
            "Mean Squared Error (Custom):  750.684659448968\n",
            "R-squared (Custom):  0.5407283458340088\n",
            "Mean Absolute Error (Custom):  20.935171994053448\n"
          ]
        }
      ]
    },
    {
      "cell_type": "markdown",
      "source": [
        " **Evaluating RandomForestRegressor Performance Across Different Tree Depths**"
      ],
      "metadata": {
        "id": "wWXSs7w5H6kj"
      }
    },
    {
      "cell_type": "markdown",
      "source": [
        "This Code block evaluates the performance of a Random Forest Regressor on training and testing datasets by varying the tree depth and computing the mean squared error (MSE) for each depth level."
      ],
      "metadata": {
        "id": "YbDe9mG-Mcn1"
      }
    },
    {
      "cell_type": "code",
      "source": [
        "from sklearn.metrics import mean_squared_error\n",
        "from sklearn.ensemble import RandomForestRegressor\n",
        "\n",
        "train_errors = []\n",
        "test_errors = []\n",
        "values = range(1, 21)  # Example range for tree depths\n",
        "\n",
        "for i in values:\n",
        "    # Configure the model\n",
        "    model =RandomForestRegressor(n_estimators=100, max_depth=i, min_samples_split=5, min_samples_leaf=2, random_state=42, n_jobs=-1)\n",
        "\n",
        "    # Fit model on the training dataset\n",
        "    model.fit(X_train, y_train)\n",
        "    # Evaluate on the train dataset\n",
        "    train_yhat = model.predict(X_train)\n",
        "    train_mse = mean_squared_error(y_train, train_yhat)\n",
        "    train_errors.append(train_mse)\n",
        "    # Evaluate on the test dataset\n",
        "    test_yhat = model.predict(X_test)\n",
        "    test_mse = mean_squared_error(y_test, test_yhat)\n",
        "    test_errors.append(test_mse)\n",
        "    # Summarize progress\n",
        "    print(f'>{i}, train MSE: {train_mse:.3f}, test MSE: {test_mse:.3f}')\n"
      ],
      "metadata": {
        "colab": {
          "base_uri": "https://localhost:8080/"
        },
        "id": "K-_M1UsBH69I",
        "outputId": "ed856cf6-040a-499c-b278-6fcf5637ccb5"
      },
      "execution_count": 18,
      "outputs": [
        {
          "output_type": "stream",
          "name": "stdout",
          "text": [
            ">1, train MSE: 1226.013, test MSE: 1451.267\n",
            ">2, train MSE: 1111.535, test MSE: 1295.399\n",
            ">3, train MSE: 986.769, test MSE: 1201.378\n",
            ">4, train MSE: 867.370, test MSE: 1115.146\n",
            ">5, train MSE: 755.862, test MSE: 1042.947\n",
            ">6, train MSE: 661.217, test MSE: 963.018\n",
            ">7, train MSE: 583.963, test MSE: 899.844\n",
            ">8, train MSE: 514.815, test MSE: 843.513\n",
            ">9, train MSE: 454.297, test MSE: 800.695\n",
            ">10, train MSE: 400.943, test MSE: 756.906\n",
            ">11, train MSE: 354.127, test MSE: 708.887\n",
            ">12, train MSE: 313.971, test MSE: 674.078\n",
            ">13, train MSE: 279.832, test MSE: 644.504\n",
            ">14, train MSE: 253.499, test MSE: 619.445\n",
            ">15, train MSE: 232.711, test MSE: 609.141\n",
            ">16, train MSE: 217.808, test MSE: 593.844\n",
            ">17, train MSE: 204.883, test MSE: 581.656\n",
            ">18, train MSE: 195.490, test MSE: 574.732\n",
            ">19, train MSE: 187.292, test MSE: 572.398\n",
            ">20, train MSE: 182.425, test MSE: 563.846\n"
          ]
        }
      ]
    },
    {
      "cell_type": "markdown",
      "source": [
        "**Visualizing the Impact of Model Complexity on Mean Squared Error for Random Forest Regressor**"
      ],
      "metadata": {
        "id": "x9MUXIaJI3CS"
      }
    },
    {
      "cell_type": "code",
      "source": [
        "from matplotlib import pyplot as plt\n",
        "plt.figure(figsize=(12, 6))\n",
        "plt.plot(values, train_errors, marker='o', label='Train MSE')\n",
        "plt.plot(values, test_errors, marker='o', label='Test MSE')\n",
        "plt.xlabel('Model Complexity')\n",
        "plt.ylabel('Mean Squared Error')\n",
        "plt.title('Mean Squared Error on Train and Test Datasets (RANDOM FOREST REGRESSOR)')\n",
        "plt.legend()\n",
        "plt.grid(True)\n",
        "plt.show()"
      ],
      "metadata": {
        "colab": {
          "base_uri": "https://localhost:8080/",
          "height": 564
        },
        "id": "Vj0SIgm_JTnZ",
        "outputId": "f4da62d9-65f3-4f17-fe1f-553c4ba762d3"
      },
      "execution_count": 19,
      "outputs": [
        {
          "output_type": "display_data",
          "data": {
            "text/plain": [
              "<Figure size 1200x600 with 1 Axes>"
            ],
            "image/png": "[encoded data removed]"
          },
          "metadata": {}
        }
      ]
    }
  ]
}