{
  "nbformat": 4,
  "nbformat_minor": 0,
  "metadata": {
    "colab": {
      "provenance": []
    },
    "kernelspec": {
      "name": "python3",
      "display_name": "Python 3"
    },
    "language_info": {
      "name": "python"
    }
  },
  "cells": [
    {
      "cell_type": "code",
      "source": [
        "import pandas as pd\n",
        "import numpy as np\n",
        "\n",
        "df = pd.read_csv('/content/salary_data_cleaned.csv')\n",
        "\n",
        "df_model=df[['Rating','Location','Size','Type of ownership','Industry','Sector','Revenue','hourly','employer_provided','avg_salary',\n",
        "       'same_state','age','python_yn','spark','aws','excel','Job Title','math', 'engineering', 'data analysis', 'AI']]\n",
        "\n",
        "df_dum = pd.get_dummies(df_model)"
      ],
      "metadata": {
        "id": "bOFBXhLoymhj"
      },
      "execution_count": 1,
      "outputs": []
    },
    {
      "cell_type": "markdown",
      "source": [
        "# 1. Standardization\n",
        "We try to bring all the variables or features to a similar scale. standarisation means centering the variable at zero."
      ],
      "metadata": {
        "id": "S82tOnUs2QkD"
      }
    },
    {
      "cell_type": "code",
      "execution_count": 2,
      "metadata": {
        "id": "U-sWPfZwhsuC"
      },
      "outputs": [],
      "source": [
        "from sklearn.preprocessing import StandardScaler\n",
        "\n",
        "scaler=StandardScaler()\n",
        "df_stand=pd.DataFrame(scaler.fit_transform(df_dum),columns=df_dum.columns)"
      ]
    },
    {
      "cell_type": "code",
      "source": [
        "features=list(df_stand.columns)\n",
        "X = df_stand.drop('avg_salary', axis=1)\n",
        "y = df_stand['avg_salary'].values"
      ],
      "metadata": {
        "id": "4rvuA5Wu0AKt"
      },
      "execution_count": 3,
      "outputs": []
    },
    {
      "cell_type": "code",
      "source": [
        "import matplotlib.pyplot as plt\n",
        "from sklearn.model_selection import train_test_split, cross_val_score\n",
        "from sklearn.metrics import mean_squared_error\n",
        "from sklearn import metrics\n",
        "from sklearn.metrics import classification_report\n",
        "from sklearn.metrics import accuracy_score\n",
        "from sklearn.ensemble import GradientBoostingRegressor"
      ],
      "metadata": {
        "id": "TBFgd7Bb0UUU"
      },
      "execution_count": 4,
      "outputs": []
    },
    {
      "cell_type": "code",
      "source": [
        "X_train, X_test, y_train, y_test = train_test_split(X,y,test_size=0.2, random_state=42)"
      ],
      "metadata": {
        "id": "sUi7nC_71w_j"
      },
      "execution_count": 5,
      "outputs": []
    },
    {
      "cell_type": "markdown",
      "source": [
        "Gradient Boosting Algorithm applied\n"
      ],
      "metadata": {
        "id": "0jo_tpBG2C4L"
      }
    },
    {
      "cell_type": "code",
      "source": [
        "gbm = GradientBoostingRegressor()\n",
        "gbm = gbm.fit(X_train, y_train)\n",
        "Y_pred = gbm.predict(X_test)\n",
        "n_estimators=150\n",
        "max_depth=5\n",
        "loss='ls'\n",
        "gbm_best_params = GradientBoostingRegressor(n_estimators=150, max_depth=5, loss='ls')\n",
        "from sklearn.metrics import mean_squared_error,mean_absolute_error, r2_score\n",
        "\n",
        "print(\"Mean Squared Error :\",mean_squared_error(y_test,Y_pred))\n",
        "print(\"Mean Absolute Error :\",mean_absolute_error(y_test,Y_pred))\n",
        "print(\"Root Mean Squared Error :\",mean_squared_error(y_test,Y_pred,squared=False))\n",
        "\n",
        "coeffofdet = r2_score(y_test, gbm.predict(X_test))\n",
        "print(\"The Coefficient Of Determination on test set: {:.4f}\".format(coeffofdet))\n",
        "mape = (100 / len(y_test)) * np.sum(np.abs((y_test - gbm.predict(X_test)) / y_test))"
      ],
      "metadata": {
        "colab": {
          "base_uri": "https://localhost:8080/"
        },
        "id": "GP7QuHFZ1zkX",
        "outputId": "760c8dd2-e530-49a3-e306-6a9e5265a862"
      },
      "execution_count": 6,
      "outputs": [
        {
          "output_type": "stream",
          "name": "stdout",
          "text": [
            "Mean Squared Error : 0.5135035605495505\n",
            "Mean Absolute Error : 0.5677478002401846\n",
            "Root Mean Squared Error : 0.7165916274626368\n",
            "The Coefficient Of Determination on test set: 0.5263\n"
          ]
        }
      ]
    },
    {
      "cell_type": "markdown",
      "source": [
        "Decision Tree Algorithm applied"
      ],
      "metadata": {
        "id": "jM_Asze84p7G"
      }
    },
    {
      "cell_type": "code",
      "source": [
        "from sklearn.tree import DecisionTreeRegressor\n",
        "\n",
        "from sklearn.metrics import mean_squared_error, r2_score, mean_absolute_error, mean_absolute_error\n",
        "regressor = DecisionTreeRegressor(max_depth=3)\n",
        "regressor.fit(X_train, y_train)\n",
        "regressor.get_params()\n",
        "predictions = regressor.predict(X_test)\n",
        "\n",
        "\n",
        "mse = mean_squared_error(y_test, predictions)\n",
        "print(\"Mean Squared Error: \", mse)\n",
        "\n",
        "r2 = r2_score(y_test, predictions)\n",
        "print(\"R-squared: \", r2)\n",
        "\n",
        "mae = mean_absolute_error(y_test, predictions)\n",
        "print(\"Mean Absolute Error: \", mae)"
      ],
      "metadata": {
        "colab": {
          "base_uri": "https://localhost:8080/"
        },
        "id": "r0lwJ3hU4uN8",
        "outputId": "0b141ec5-df42-483e-c1d5-5974ccf46222"
      },
      "execution_count": 7,
      "outputs": [
        {
          "output_type": "stream",
          "name": "stdout",
          "text": [
            "Mean Squared Error:  0.8566652858808267\n",
            "R-squared:  0.20977167166905908\n",
            "Mean Absolute Error:  0.7372834015251054\n"
          ]
        }
      ]
    },
    {
      "cell_type": "markdown",
      "source": [
        "Linear Regression Algorithm applied"
      ],
      "metadata": {
        "id": "sw6Y94bK4wq-"
      }
    },
    {
      "cell_type": "code",
      "source": [
        "\n",
        "from sklearn.linear_model import LinearRegression\n",
        "from sklearn.metrics import mean_squared_error, mean_absolute_error, r2_score, explained_variance_score\n",
        "# Fit the model\n",
        "lr = LinearRegression()\n",
        "lr.fit(X_train, y_train)\n",
        "y_pred_lr = lr.predict(X_test)\n",
        "\n",
        "# Calculate metrics\n",
        "mse = mean_squared_error(y_test, y_pred_lr)\n",
        "mae = mean_absolute_error(y_test, y_pred_lr)\n",
        "rmse = mean_squared_error(y_test, y_pred_lr, squared=False)\n",
        "r2 = r2_score(y_test, y_pred_lr)\n",
        "\n",
        "def adjusted_r2_score(y_true, y_pred, X):\n",
        "    r2 = r2_score(y_true, y_pred)\n",
        "    n = X.shape[0]\n",
        "    p = X.shape[1]\n",
        "    return 1 - (1 - r2) * (n - 1) / (n - p - 1)\n",
        "\n",
        "adjusted_r2 = adjusted_r2_score(y_test, y_pred_lr, X_test)\n",
        "\n",
        "def mean_absolute_percentage_error(y_true, y_pred):\n",
        "    return np.mean(np.abs((y_true - y_pred) / y_true)) * 100\n",
        "\n",
        "mape = mean_absolute_percentage_error(y_test, y_pred_lr)\n",
        "explained_variance = explained_variance_score(y_test, y_pred_lr)\n",
        "\n",
        "print(\"Mean Squared Error :\", mse)\n",
        "print(\"Mean Absolute Error :\", mae)\n",
        "print(\"Root Mean Squared Error :\", rmse)\n",
        "print(\"R-squared (R²) Score:\", r2)\n",
        "print(\"Adjusted R-squared (Adjusted R²) Score:\", adjusted_r2)\n",
        "print(\"Mean Absolute Percentage Error (MAPE):\", mape)\n",
        "print(\"Explained Variance Score:\", explained_variance)#write linear regression code"
      ],
      "metadata": {
        "id": "Lze_mNlS4zT_",
        "colab": {
          "base_uri": "https://localhost:8080/"
        },
        "outputId": "57ece0c5-3e97-4285-f4f4-8b5eec34e9df"
      },
      "execution_count": 11,
      "outputs": [
        {
          "output_type": "stream",
          "name": "stdout",
          "text": [
            "Mean Squared Error : 2.418923738183627e+27\n",
            "Mean Absolute Error : 20023330069236.793\n",
            "Root Mean Squared Error : 49182555222188.555\n",
            "R-squared (R²) Score: -2.2313289606680678e+27\n",
            "Adjusted R-squared (Adjusted R²) Score: 7.37135460220701e+26\n",
            "Mean Absolute Percentage Error (MAPE): 2.84127247590694e+16\n",
            "Explained Variance Score: -2.2169614862976435e+27\n"
          ]
        }
      ]
    },
    {
      "cell_type": "markdown",
      "source": [
        "Random Forest Algorithm applied"
      ],
      "metadata": {
        "id": "nRjciKUP41uj"
      }
    },
    {
      "cell_type": "code",
      "source": [
        "from sklearn.ensemble import RandomForestRegressor\n",
        "from sklearn.metrics import mean_squared_error, r2_score, mean_absolute_error\n",
        "\n",
        "# Train and evaluate scikit-learn's RandomForestRegressor\n",
        "sklearn_regressor = RandomForestRegressor(n_estimators=100, max_depth=10, min_samples_split=5, min_samples_leaf=2, random_state=42, n_jobs=-1)\n",
        "sklearn_regressor.fit(X_train, y_train)\n",
        "predictions_sklearn = sklearn_regressor.predict(X_test)\n",
        "\n",
        "mse_sklearn = mean_squared_error(y_test, predictions_sklearn)\n",
        "r2_sklearn = r2_score(y_test, predictions_sklearn)\n",
        "mae_sklearn = mean_absolute_error(y_test, predictions_sklearn)\n",
        "\n",
        "print(\"Mean Squared Error (Scikit-learn): \", mse_sklearn)\n",
        "print(\"R-squared (Scikit-learn): \", r2_sklearn)\n",
        "print(\"Mean Absolute Error (Scikit-learn): \", mae_sklearn)"
      ],
      "metadata": {
        "id": "eAh1ohtJ43ru",
        "colab": {
          "base_uri": "https://localhost:8080/"
        },
        "outputId": "0abc18bc-03fb-43f1-9089-c48c0c54de62"
      },
      "execution_count": 10,
      "outputs": [
        {
          "output_type": "stream",
          "name": "stdout",
          "text": [
            "Mean Squared Error (Scikit-learn):  0.5017567774047497\n",
            "R-squared (Scikit-learn):  0.5371559628103875\n",
            "Mean Absolute Error (Scikit-learn):  0.5410440065032274\n"
          ]
        }
      ]
    },
    {
      "cell_type": "markdown",
      "source": [
        "# 2.Guassian Transformation (square root transfromation)\n"
      ],
      "metadata": {
        "id": "lFH7agMn2UO5"
      }
    },
    {
      "cell_type": "code",
      "source": [
        "import scipy.stats as stat\n",
        "import pylab\n",
        "\n",
        "df = pd.read_csv('/content/salary_data_cleaned.csv')\n",
        "\n",
        "features = ['Rating','Location','Size','Type of ownership','Industry','Sector','Revenue','hourly','employer_provided','avg_salary',\n",
        "       'same_state','age','python_yn','spark','aws','excel','Job Title','math', 'engineering', 'data analysis', 'AI']\n",
        "\n",
        "# Select the relevant features from the dataframe\n",
        "df_model = df[features].copy()\n",
        "\n",
        "# Separate numerical and categorical features\n",
        "numerical_features = df_model.select_dtypes(include=[np.number]).columns.tolist()\n",
        "categorical_features = df_model.select_dtypes(exclude=[np.number]).columns.tolist()\n",
        "\n",
        "# Create a new dataframe for the transformed numerical features\n",
        "transformed_numerical = pd.DataFrame()\n",
        "\n",
        "# Apply square root transformation to numerical features\n",
        "for feature in numerical_features:\n",
        "    transformed_numerical[feature + '_sqroot'] = np.sqrt(df_model[feature].abs())  # Ensure non-negative values\n",
        "\n",
        "# Combine transformed numerical features with categorical features\n",
        "df_transformed = pd.concat([transformed_numerical, df_model[categorical_features]], axis=1)\n",
        "\n",
        "# Define X and y\n",
        "X = df_transformed.drop('avg_salary_sqroot', axis=1)\n",
        "y = df_transformed['avg_salary_sqroot'].values"
      ],
      "metadata": {
        "id": "1VofapFJ2XAz"
      },
      "execution_count": 12,
      "outputs": []
    },
    {
      "cell_type": "markdown",
      "source": [
        "Gradient Boosting Algorithm applied"
      ],
      "metadata": {
        "id": "WrVTuj4Q4LPR"
      }
    },
    {
      "cell_type": "code",
      "source": [
        "gbm = GradientBoostingRegressor()\n",
        "gbm = gbm.fit(X_train, y_train)\n",
        "Y_pred = gbm.predict(X_test)\n",
        "n_estimators=150\n",
        "max_depth=5\n",
        "loss='ls'\n",
        "gbm_best_params = GradientBoostingRegressor(n_estimators=150, max_depth=5, loss='ls')\n",
        "from sklearn.metrics import mean_squared_error,mean_absolute_error, r2_score\n",
        "\n",
        "print(\"Mean Squared Error :\",mean_squared_error(y_test,Y_pred))\n",
        "print(\"Mean Absolute Error :\",mean_absolute_error(y_test,Y_pred))\n",
        "print(\"Root Mean Squared Error :\",mean_squared_error(y_test,Y_pred,squared=False))\n",
        "\n",
        "coeffofdet = r2_score(y_test, gbm.predict(X_test))\n",
        "print(\"The Coefficient Of Determination on test set: {:.4f}\".format(coeffofdet))\n",
        "mape = (100 / len(y_test)) * np.sum(np.abs((y_test - gbm.predict(X_test)) / y_test))"
      ],
      "metadata": {
        "colab": {
          "base_uri": "https://localhost:8080/"
        },
        "id": "ckUV9Xzx4N9L",
        "outputId": "f57ab5cd-9eaf-411a-fd89-446b8b7fda3b"
      },
      "execution_count": 13,
      "outputs": [
        {
          "output_type": "stream",
          "name": "stdout",
          "text": [
            "Mean Squared Error : 0.5151525849647082\n",
            "Mean Absolute Error : 0.5687306944964702\n",
            "Root Mean Squared Error : 0.7177413078294352\n",
            "The Coefficient Of Determination on test set: 0.5248\n"
          ]
        }
      ]
    },
    {
      "cell_type": "markdown",
      "source": [
        "Decision Tree algorithm applied"
      ],
      "metadata": {
        "id": "gRudiBAu47Xz"
      }
    },
    {
      "cell_type": "code",
      "source": [
        "regressor = DecisionTreeRegressor(max_depth=3)\n",
        "regressor.fit(X_train,\n",
        "              y_train)\n",
        "regressor.get_params()\n",
        "predictions = regressor.predict(X_test)\n",
        "\n",
        "\n",
        "mse = mean_squared_error(y_test, predictions)\n",
        "print(\"Mean Squared Error: \", mse)\n",
        "\n",
        "r2 = r2_score(y_test, predictions)\n",
        "print(\"R-squared: \", r2)\n",
        "\n",
        "mae = mean_absolute_error(y_test, predictions)\n",
        "print(\"Mean Absolute Error: \", mae)"
      ],
      "metadata": {
        "colab": {
          "base_uri": "https://localhost:8080/"
        },
        "id": "BOXppbZx49xQ",
        "outputId": "e9a4734a-78e3-4096-ef85-84232180ffed"
      },
      "execution_count": 14,
      "outputs": [
        {
          "output_type": "stream",
          "name": "stdout",
          "text": [
            "Mean Squared Error:  0.8566652858808269\n",
            "R-squared:  0.20977167166905886\n",
            "Mean Absolute Error:  0.7372834015251054\n"
          ]
        }
      ]
    },
    {
      "cell_type": "markdown",
      "source": [
        "Linear Regression algorithm applied"
      ],
      "metadata": {
        "id": "B8BYP7wW4_29"
      }
    },
    {
      "cell_type": "code",
      "source": [
        "# Fit the model\n",
        "lr = LinearRegression()\n",
        "lr.fit(X_train, y_train)\n",
        "y_pred_lr = lr.predict(X_test)\n",
        "\n",
        "# Calculate metrics\n",
        "mse = mean_squared_error(y_test, y_pred_lr)\n",
        "mae = mean_absolute_error(y_test, y_pred_lr)\n",
        "rmse = mean_squared_error(y_test, y_pred_lr, squared=False)\n",
        "r2 = r2_score(y_test, y_pred_lr)\n",
        "\n",
        "def adjusted_r2_score(y_true, y_pred, X):\n",
        "    r2 = r2_score(y_true, y_pred)\n",
        "    n = X.shape[0]\n",
        "    p = X.shape[1]\n",
        "    return 1 - (1 - r2) * (n - 1) / (n - p - 1)\n",
        "\n",
        "adjusted_r2 = adjusted_r2_score(y_test, y_pred_lr, X_test)\n",
        "\n",
        "def mean_absolute_percentage_error(y_true, y_pred):\n",
        "    return np.mean(np.abs((y_true - y_pred) / y_true)) * 100\n",
        "\n",
        "mape = mean_absolute_percentage_error(y_test, y_pred_lr)\n",
        "explained_variance = explained_variance_score(y_test, y_pred_lr)\n",
        "\n",
        "print(\"Mean Squared Error :\", mse)\n",
        "print(\"Mean Absolute Error :\", mae)\n",
        "print(\"Root Mean Squared Error :\", rmse)\n",
        "print(\"R-squared (R²) Score:\", r2)\n",
        "print(\"Adjusted R-squared (Adjusted R²) Score:\", adjusted_r2)\n",
        "print(\"Mean Absolute Percentage Error (MAPE):\", mape)\n",
        "print(\"Explained Variance Score:\", explained_variance)"
      ],
      "metadata": {
        "id": "paTM0Put5CAR",
        "colab": {
          "base_uri": "https://localhost:8080/"
        },
        "outputId": "0531e345-2862-4069-a309-23f1760119ba"
      },
      "execution_count": 16,
      "outputs": [
        {
          "output_type": "stream",
          "name": "stdout",
          "text": [
            "Mean Squared Error : 2.418923738183627e+27\n",
            "Mean Absolute Error : 20023330069236.793\n",
            "Root Mean Squared Error : 49182555222188.555\n",
            "R-squared (R²) Score: -2.2313289606680678e+27\n",
            "Adjusted R-squared (Adjusted R²) Score: 7.37135460220701e+26\n",
            "Mean Absolute Percentage Error (MAPE): 2.84127247590694e+16\n",
            "Explained Variance Score: -2.2169614862976435e+27\n"
          ]
        }
      ]
    },
    {
      "cell_type": "markdown",
      "source": [
        "Random Forest algorithm applied"
      ],
      "metadata": {
        "id": "o8LCBK185E1U"
      }
    },
    {
      "cell_type": "code",
      "source": [
        "from sklearn.ensemble import RandomForestRegressor\n",
        "from sklearn.metrics import mean_squared_error, r2_score, mean_absolute_error\n",
        "\n",
        "# Train and evaluate scikit-learn's RandomForestRegressor\n",
        "sklearn_regressor = RandomForestRegressor(n_estimators=100, max_depth=10, min_samples_split=5, min_samples_leaf=2, random_state=42, n_jobs=-1)\n",
        "sklearn_regressor.fit(X_train, y_train)\n",
        "predictions_sklearn = sklearn_regressor.predict(X_test)\n",
        "\n",
        "mse_sklearn = mean_squared_error(y_test, predictions_sklearn)\n",
        "r2_sklearn = r2_score(y_test, predictions_sklearn)\n",
        "mae_sklearn = mean_absolute_error(y_test, predictions_sklearn)\n",
        "\n",
        "print(\"Mean Squared Error (Scikit-learn): \", mse_sklearn)\n",
        "print(\"R-squared (Scikit-learn): \", r2_sklearn)\n",
        "print(\"Mean Absolute Error (Scikit-learn): \", mae_sklearn)"
      ],
      "metadata": {
        "id": "nAexelzh5HxW",
        "colab": {
          "base_uri": "https://localhost:8080/"
        },
        "outputId": "aac7073c-105d-4137-ae29-581fcd0c6ae6"
      },
      "execution_count": 17,
      "outputs": [
        {
          "output_type": "stream",
          "name": "stdout",
          "text": [
            "Mean Squared Error (Scikit-learn):  0.5017567774047497\n",
            "R-squared (Scikit-learn):  0.5371559628103876\n",
            "Mean Absolute Error (Scikit-learn):  0.5410440065032274\n"
          ]
        }
      ]
    }
  ]
}